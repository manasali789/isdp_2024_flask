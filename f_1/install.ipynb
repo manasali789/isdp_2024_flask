{
 "cells": [
  {
   "cell_type": "code",
   "execution_count": 1,
   "metadata": {},
   "outputs": [
    {
     "name": "stderr",
     "output_type": "stream",
     "text": [
      "\n",
      "[notice] A new release of pip is available: 24.0 -> 24.2\n",
      "[notice] To update, run: python.exe -m pip install --upgrade pip\n"
     ]
    },
    {
     "name": "stdout",
     "output_type": "stream",
     "text": [
      "Collecting flask\n",
      "  Downloading flask-3.0.3-py3-none-any.whl.metadata (3.2 kB)\n",
      "Collecting Werkzeug>=3.0.0 (from flask)\n",
      "  Downloading werkzeug-3.0.4-py3-none-any.whl.metadata (3.7 kB)\n",
      "Collecting Jinja2>=3.1.2 (from flask)\n",
      "  Downloading jinja2-3.1.4-py3-none-any.whl.metadata (2.6 kB)\n",
      "Collecting itsdangerous>=2.1.2 (from flask)\n",
      "  Downloading itsdangerous-2.2.0-py3-none-any.whl.metadata (1.9 kB)\n",
      "Collecting click>=8.1.3 (from flask)\n",
      "  Downloading click-8.1.7-py3-none-any.whl.metadata (3.0 kB)\n",
      "Collecting blinker>=1.6.2 (from flask)\n",
      "  Downloading blinker-1.8.2-py3-none-any.whl.metadata (1.6 kB)\n",
      "Requirement already satisfied: colorama in c:\\users\\anas ali\\appdata\\roaming\\python\\python312\\site-packages (from click>=8.1.3->flask) (0.4.6)\n",
      "Collecting MarkupSafe>=2.0 (from Jinja2>=3.1.2->flask)\n",
      "  Downloading MarkupSafe-2.1.5-cp312-cp312-win_amd64.whl.metadata (3.1 kB)\n",
      "Downloading flask-3.0.3-py3-none-any.whl (101 kB)\n",
      "   ---------------------------------------- 0.0/101.7 kB ? eta -:--:--\n",
      "   ------------ --------------------------- 30.7/101.7 kB 1.3 MB/s eta 0:00:01\n",
      "   ------------ --------------------------- 30.7/101.7 kB 1.3 MB/s eta 0:00:01\n",
      "   ----------------------- --------------- 61.4/101.7 kB 409.6 kB/s eta 0:00:01\n",
      "   ------------------------------- ------- 81.9/101.7 kB 381.3 kB/s eta 0:00:01\n",
      "   ----------------------------------- --- 92.2/101.7 kB 435.7 kB/s eta 0:00:01\n",
      "   ----------------------------------- --- 92.2/101.7 kB 435.7 kB/s eta 0:00:01\n",
      "   ----------------------------------- --- 92.2/101.7 kB 435.7 kB/s eta 0:00:01\n",
      "   -------------------------------------- 101.7/101.7 kB 278.9 kB/s eta 0:00:00\n",
      "Downloading blinker-1.8.2-py3-none-any.whl (9.5 kB)\n",
      "Downloading click-8.1.7-py3-none-any.whl (97 kB)\n",
      "   ---------------------------------------- 0.0/97.9 kB ? eta -:--:--\n",
      "   ---------------- ----------------------- 41.0/97.9 kB 667.8 kB/s eta 0:00:01\n",
      "   ---------------- ----------------------- 41.0/97.9 kB 667.8 kB/s eta 0:00:01\n",
      "   --------------------------------- ------ 81.9/97.9 kB 573.4 kB/s eta 0:00:01\n",
      "   ------------------------------------- -- 92.2/97.9 kB 438.1 kB/s eta 0:00:01\n",
      "   ---------------------------------------- 97.9/97.9 kB 330.9 kB/s eta 0:00:00\n",
      "Downloading itsdangerous-2.2.0-py3-none-any.whl (16 kB)\n",
      "Downloading jinja2-3.1.4-py3-none-any.whl (133 kB)\n",
      "   ---------------------------------------- 0.0/133.3 kB ? eta -:--:--\n",
      "   --------- ------------------------------ 30.7/133.3 kB 1.3 MB/s eta 0:00:01\n",
      "   ----------------- --------------------- 61.4/133.3 kB 812.7 kB/s eta 0:00:01\n",
      "   -------------------------- ------------ 92.2/133.3 kB 655.4 kB/s eta 0:00:01\n",
      "   -------------------------------------  133.1/133.3 kB 714.4 kB/s eta 0:00:01\n",
      "   -------------------------------------  133.1/133.3 kB 714.4 kB/s eta 0:00:01\n",
      "   -------------------------------------- 133.3/133.3 kB 492.1 kB/s eta 0:00:00\n",
      "Downloading werkzeug-3.0.4-py3-none-any.whl (227 kB)\n",
      "   ---------------------------------------- 0.0/227.6 kB ? eta -:--:--\n",
      "   ---------------------------------------- 0.0/227.6 kB ? eta -:--:--\n",
      "   ------- ------------------------------- 41.0/227.6 kB 653.6 kB/s eta 0:00:01\n",
      "   ---------- ----------------------------- 61.4/227.6 kB 1.1 MB/s eta 0:00:01\n",
      "   ---------- ----------------------------- 61.4/227.6 kB 1.1 MB/s eta 0:00:01\n",
      "   ------------ -------------------------- 71.7/227.6 kB 357.2 kB/s eta 0:00:01\n",
      "   ------------ -------------------------- 71.7/227.6 kB 357.2 kB/s eta 0:00:01\n",
      "   ------------ -------------------------- 71.7/227.6 kB 357.2 kB/s eta 0:00:01\n",
      "   ------------ -------------------------- 71.7/227.6 kB 357.2 kB/s eta 0:00:01\n",
      "   --------------- ----------------------- 92.2/227.6 kB 249.8 kB/s eta 0:00:01\n",
      "   ------------------ ------------------- 112.6/227.6 kB 252.2 kB/s eta 0:00:01\n",
      "   ------------------ ------------------- 112.6/227.6 kB 252.2 kB/s eta 0:00:01\n",
      "   ----------------------- -------------- 143.4/227.6 kB 275.0 kB/s eta 0:00:01\n",
      "   ------------------------- ------------ 153.6/227.6 kB 277.8 kB/s eta 0:00:01\n",
      "   ------------------------- ------------ 153.6/227.6 kB 277.8 kB/s eta 0:00:01\n",
      "   ------------------------- ------------ 153.6/227.6 kB 277.8 kB/s eta 0:00:01\n",
      "   ------------------------- ------------ 153.6/227.6 kB 277.8 kB/s eta 0:00:01\n",
      "   ---------------------------------- --- 204.8/227.6 kB 265.1 kB/s eta 0:00:01\n",
      "   -------------------------------------  225.3/227.6 kB 280.7 kB/s eta 0:00:01\n",
      "   -------------------------------------  225.3/227.6 kB 280.7 kB/s eta 0:00:01\n",
      "   -------------------------------------  225.3/227.6 kB 280.7 kB/s eta 0:00:01\n",
      "   -------------------------------------  225.3/227.6 kB 280.7 kB/s eta 0:00:01\n",
      "   -------------------------------------  225.3/227.6 kB 280.7 kB/s eta 0:00:01\n",
      "   -------------------------------------  225.3/227.6 kB 280.7 kB/s eta 0:00:01\n",
      "   -------------------------------------  225.3/227.6 kB 280.7 kB/s eta 0:00:01\n",
      "   -------------------------------------- 227.6/227.6 kB 188.0 kB/s eta 0:00:00\n",
      "Downloading MarkupSafe-2.1.5-cp312-cp312-win_amd64.whl (17 kB)\n",
      "Installing collected packages: MarkupSafe, itsdangerous, click, blinker, Werkzeug, Jinja2, flask\n",
      "Successfully installed Jinja2-3.1.4 MarkupSafe-2.1.5 Werkzeug-3.0.4 blinker-1.8.2 click-8.1.7 flask-3.0.3 itsdangerous-2.2.0\n"
     ]
    }
   ],
   "source": [
    "!pip install flask\n"
   ]
  }
 ],
 "metadata": {
  "kernelspec": {
   "display_name": "Python 3",
   "language": "python",
   "name": "python3"
  },
  "language_info": {
   "codemirror_mode": {
    "name": "ipython",
    "version": 3
   },
   "file_extension": ".py",
   "mimetype": "text/x-python",
   "name": "python",
   "nbconvert_exporter": "python",
   "pygments_lexer": "ipython3",
   "version": "3.12.3"
  }
 },
 "nbformat": 4,
 "nbformat_minor": 2
}
